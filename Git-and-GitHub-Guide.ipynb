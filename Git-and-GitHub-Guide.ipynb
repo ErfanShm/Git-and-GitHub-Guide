{
 "cells": [
  {
   "cell_type": "markdown",
   "id": "19f5d239-769c-42e8-9aa8-c856e4801522",
   "metadata": {},
   "source": [
    "# Git and GitHub Tutorial"
   ]
  },
  {
   "cell_type": "markdown",
   "id": "6ea84a16-7609-46e7-8ea7-0aa013fbf28f",
   "metadata": {},
   "source": [
    "## Table of Contents\n",
    "0. Introduction to Git and GitHub\n",
    "   - Git\n",
    "   - GitHub\n",
    "   - Key Points\n",
    "1. Initial Setup for Git Usage\n",
    "2. Basic Git Commands\n",
    "   - Git Status\n",
    "   - Adding Files to Staging\n",
    "   - Committing Changes\n",
    "   - Commit without Staging\n",
    "   - Working with Git Branches\n",
    "     - Creating a New Branch\n",
    "     - Confirming and Switching Branches\n",
    "     - Merge Branches\n",
    "     - Deleting Merged Branches\n",
    "3. GitHub Getting Started\n",
    "   - GitHub Account\n",
    "   - Sign In and Create a New Repository\n",
    "   - Add Remote Repository\n",
    "   - Push to GitHub\n",
    "   - Edit Code in GitHub\n",
    "   - Pulling to Keep up-to-date with Changes\n",
    "     - Git Fetch\n",
    "     - Git Merge\n",
    "     - Git Pull\n",
    "   - Working with Branches on GitHub\n",
    "   - Fork a Repository\n",
    "   - Clone a Fork from GitHub\n",
    "   - Managing Multiple Remotes\n",
    "   - Push Changes to Your GitHub Fork\n",
    "   - Create a Pull Request (PR)\n",
    "4. Git Undo\n",
    "   - Git Revert\n",
    "   - Git Reset\n",
    "   - Undo the Reset\n",
    "5. Output"
   ]
  },
  {
   "cell_type": "markdown",
   "id": "dffedf39-1581-4d89-9c54-d706b482a90c",
   "metadata": {},
   "source": [
    "# 0. Introduction to Git and GitHub"
   ]
  },
  {
   "cell_type": "markdown",
   "id": "a70cb6c2-6988-4fe7-bb1b-dda4b9aa7da6",
   "metadata": {
    "jp-MarkdownHeadingCollapsed": true
   },
   "source": [
    "## Git\n",
    "\n",
    "Git is a distributed version control system (VCS) designed to track changes in source code during software development. It allows multiple developers to collaborate on projects by managing and recording changes to files over time.\n",
    "\n",
    "**Explanation:**\n",
    "Git helps developers keep track of changes made to their codebase. It works by creating a repository (repo) where all project files are stored along with a history of changes. Developers can make changes locally, create checkpoints (commits) of their work, and then push those commits to a central repository or share them with others. Git enables branching, merging, and reverting to previous versions, providing a structured way to manage code evolution and collaboration.\n",
    "\n",
    "---\n",
    "\n",
    "## GitHub\n",
    "\n",
    "GitHub is a web-based platform built on top of Git, providing additional features for collaboration and project management. It hosts Git repositories and offers tools for code review, issue tracking, project management, and team collaboration.\n",
    "\n",
    "**Explanation:**\n",
    "GitHub extends the functionality of Git by providing a centralized platform for hosting Git repositories in the cloud. It allows developers to store their code repositories online, making it accessible from anywhere. GitHub facilitates collaboration through features like pull requests (for proposing changes), issues (for tracking bugs or tasks), and project boards (for organizing tasks). It also serves as a social network for developers, enabling them to showcase their work, contribute to open-source projects, and build a professional network.\n",
    "\n",
    "---\n",
    "\n",
    "### Key Points\n",
    "- **Git** is a version control system for tracking changes in code.\n",
    "- **GitHub** is a platform that hosts Git repositories and adds collaboration features.\n",
    "- Together, Git and GitHub form a powerful combination for version control, code sharing, and collaborative software development.\n",
    "\n"
   ]
  },
  {
   "cell_type": "markdown",
   "id": "e60e8026-c2a0-402f-b514-9fc1c9fe5391",
   "metadata": {},
   "source": [
    "# 1. Initial Setup for Git Usage\n",
    "The first thing we need to do, is to check if Git is properly installed:"
   ]
  },
  {
   "cell_type": "markdown",
   "id": "dd967765-6b4a-442e-b290-b1c2f6e49658",
   "metadata": {},
   "source": [
    "```bash\r\n",
    "!git --version\r\n",
    "```\r\n",
    "Output:\r\n",
    "```\r\n",
    "git version 2.45.2.windows.1\r\n",
    "```"
   ]
  },
  {
   "cell_type": "markdown",
   "id": "2d4c64b2-0c64-4180-bf0f-6990a0fa189d",
   "metadata": {},
   "source": [
    "Let Git know your identity. This is important because each Git commit relies on this information for version control purposes."
   ]
  },
  {
   "cell_type": "code",
   "execution_count": 3,
   "id": "6327926b-4556-4471-a210-e70f9bc2f788",
   "metadata": {},
   "outputs": [],
   "source": [
    "!git config --global user.name \"ErfanShm\"\n",
    "!git config --global user.email \"erfanshm12@gmail.com\""
   ]
  },
  {
   "cell_type": "markdown",
   "id": "feca1639-66a0-4d8a-b1c3-4cf1386a3199",
   "metadata": {},
   "source": [
    "Create a folder and change the current directory to that folder:"
   ]
  },
  {
   "cell_type": "code",
   "execution_count": 11,
   "id": "c0706cdc-f4ce-488c-af2b-001b3f3487ad",
   "metadata": {},
   "outputs": [],
   "source": [
    "!mkdir git-test\n",
    "!cd git-test"
   ]
  },
  {
   "cell_type": "markdown",
   "id": "6d7555cc-e316-41f4-a0b8-886679ef25b2",
   "metadata": {},
   "source": [
    "Once you have navigated to the correct folder, you can initialize Git on that folder:"
   ]
  },
  {
   "cell_type": "markdown",
   "id": "ba3d7ba2-8726-4b68-9b11-1d8fb05caae2",
   "metadata": {},
   "source": [
    "```bash\n",
    "!git init\n",
    "```\n",
    "Output:\n",
    "```\n",
    "Reinitialized existing Git repository in C:/Users/erfan/.git/\n",
    "```"
   ]
  },
  {
   "cell_type": "markdown",
   "id": "75d884d3-dab2-4cbc-8aa6-18770eff8ea8",
   "metadata": {},
   "source": [
    "Check the status of your repository:"
   ]
  },
  {
   "cell_type": "markdown",
   "id": "5586f823-6fcb-4042-bb8d-620b22a01a43",
   "metadata": {},
   "source": [
    "```bash\n",
    "$ git status\n",
    "```\n",
    "Output:\n",
    "```\n",
    "On branch main\n",
    "Your branch is up to date with 'origin/main'.\n",
    "\n",
    "nothing to commit, working tree clean\n",
    "```"
   ]
  },
  {
   "cell_type": "markdown",
   "id": "6a1de681-a643-446a-961c-d9ff65bf7ba4",
   "metadata": {},
   "source": [
    "# 2. Basic Git Commands\n",
    "Now that you've set up your local Git repository, it's empty. To start, create or move a file into the repository directory using your text editor of choice.\n",
    "Here's a simple Python program for testing: \n",
    "(test.py)"
   ]
  },
  {
   "cell_type": "code",
   "execution_count": 14,
   "id": "e41f2ae2-cc80-45b9-8734-3b9d497423dd",
   "metadata": {},
   "outputs": [
    {
     "name": "stdout",
     "output_type": "stream",
     "text": [
      "Hello, Git!\n"
     ]
    }
   ],
   "source": [
    "# Simple Python test program for Git\n",
    "\n",
    "print(\"Hello, Git!\")"
   ]
  },
  {
   "cell_type": "markdown",
   "id": "2925b320-8b2e-4f67-b3d9-d3402c7ad741",
   "metadata": {},
   "source": [
    "## 2.1 Git Status"
   ]
  },
  {
   "cell_type": "markdown",
   "id": "89097c4e-87fa-46c9-a1dd-ed24ca59a4e6",
   "metadata": {},
   "source": [
    "When you check the status of your Git repository using `git status`, it provides essential information about the current state of your project:\n",
    "\n",
    "- **Branch Information**: Indicates which branch you are currently on (`main` branch).\n",
    "- **Commit Status**: Confirms that there have been no commits made yet (`No commits yet`).\n",
    "- **Untracked Files**: Lists files in your directory that Git is not tracking (`test.py`).\n",
    "\n",
    "The `git status` command outputs the following details:"
   ]
  },
  {
   "cell_type": "markdown",
   "id": "5c7a122a-3716-4b12-92ab-bee548f90208",
   "metadata": {},
   "source": [
    "```bash\r\n",
    "$ git status\r\n",
    "```\r\n",
    "Output:\r\n",
    "```\r\n",
    "On branch main\r\n",
    "No commits yet\r\n",
    "Untracked files:\r\n",
    "  (use \"git add <file>...\" to include in what will be committed)\r\n",
    "        test.py\r\n",
    "\r\n",
    "nothing added to commit but untracked files present (use \"git add\" to track)\r\n",
    "```"
   ]
  },
  {
   "cell_type": "markdown",
   "id": "b3d5e4aa-f937-47ce-8473-ff19ab673fbd",
   "metadata": {},
   "source": [
    "## 2.2 Adding Files to Staging"
   ]
  },
  {
   "cell_type": "markdown",
   "id": "90e4c2f9-f3f6-4b6d-962c-54b9963ee83d",
   "metadata": {},
   "source": [
    "To add a file, such as test.py, to the Staging Environment:\n",
    "```bash\n",
    "$ git add test.py\n",
    "```\n",
    "After adding a file to the Staging Environment, use git status to verify:"
   ]
  },
  {
   "cell_type": "markdown",
   "id": "6bdd3b80-3687-456a-8cf3-cb33539b5ebb",
   "metadata": {},
   "source": [
    "```bash\n",
    "$ git status\n",
    "```\n",
    "Output:\n",
    "```\n",
    "On branch main\n",
    "\n",
    "No commits yet\n",
    "\n",
    "Changes to be committed:\n",
    "  (use \"git rm --cached <file>...\" to unstage)\n",
    "        new file:   test.py\n",
    "```"
   ]
  },
  {
   "cell_type": "markdown",
   "id": "63ea851b-10b3-4ff1-8bf9-9034b911e27a",
   "metadata": {},
   "source": [
    "## 2.3 Committing Changes"
   ]
  },
  {
   "cell_type": "markdown",
   "id": "c21b76c6-4c16-48f7-944f-5d31205a8298",
   "metadata": {},
   "source": [
    "Committing changes in Git tracks your progress and serves as a save point in your project's history.\n",
    "Each commit represents a snapshot of your project. It's crucial to include clear messages describing what changed."
   ]
  },
  {
   "cell_type": "markdown",
   "id": "49063e0c-2278-47b1-83c7-064411780814",
   "metadata": {},
   "source": [
    "```bash\r\n",
    "$ git commit -m \"First release of our test\"\r\n",
    "```\r\n",
    "Output:\r\n",
    "```\r\n",
    "[main (root-commit) 1eac6d4] First release of our test\r\n",
    " 1 file changed, 3 insertions(+)\r\n",
    " create mode 100644 test.py\r\n",
    "```"
   ]
  },
  {
   "cell_type": "markdown",
   "id": "130919f7-c5ae-4f54-951e-3211d7e739e2",
   "metadata": {},
   "source": [
    "### Commit without Staging"
   ]
  },
  {
   "cell_type": "markdown",
   "id": "089f8ca8-1b1b-4850-a47d-6371c4773e03",
   "metadata": {},
   "source": [
    "For small changes, skip staging and commit directly using the -a option:\n",
    "test.py would be like:"
   ]
  },
  {
   "cell_type": "code",
   "execution_count": 18,
   "id": "9ea5ce89-7089-430e-8fd6-9c57fe2e3fed",
   "metadata": {},
   "outputs": [
    {
     "name": "stdout",
     "output_type": "stream",
     "text": [
      "Hello, Git!\n",
      "How are you?\n"
     ]
    }
   ],
   "source": [
    "# Simple Python test program for Git\n",
    "print(\"Hello, Git!\")\n",
    "print(\"How are you?\")"
   ]
  },
  {
   "cell_type": "markdown",
   "id": "c8aff845-6869-415e-9812-bece2fdcb48d",
   "metadata": {},
   "source": [
    "```bash\r\n",
    "$ git commit -a -m \"Updated test.py with a new line\"\r\n",
    "```\r\n",
    "Output:\r\n",
    "```\r\n",
    "[main 9070cc1] Updated test.py with a new line\r\n",
    " 1 file changed, 1 insertion(+), 1 deletion(-)\r\n",
    "```"
   ]
  },
  {
   "cell_type": "markdown",
   "id": "e9ceb7eb-d19d-4ecd-a99f-2ab7aae6d8f8",
   "metadata": {},
   "source": [
    "## 2.4 Working with Git Branches"
   ]
  },
  {
   "cell_type": "markdown",
   "id": "fa31ded3-52bc-4115-9345-16d7e21c39ff",
   "metadata": {},
   "source": [
    "In Git, a branch is a separate version of the main repository, allowing you to work on different features or fixes without impacting the main codebase.\n",
    "\n",
    "**Without Git:**\n",
    "- **Manual Copies:** Duplicate files to work on changes.\n",
    "- **Dependency Issues:** Problems when files need each other.\n",
    "- **Urgent Fixes:** Stop work for important issues.\n",
    "- **Merge Risks:** Combine changes back, risking errors.\n",
    "\n",
    "**With Git:**\n",
    "- **Branching Benefits:**\n",
    "  - Create branches (like `new-design`) for different tasks.\n",
    "  - Changes stay separate from the main project.\n",
    "- **Emergency Handling:**\n",
    "  - Use branches (e.g., `small-error-fix`) for quick fixes.\n",
    "  - Merge fixes back into the main project easily.\n",
    "- **Advantages:**\n",
    "  - Keeps tasks organized and safe.\n",
    "  - Easy switching between tasks.\n",
    "  - Merge changes when ready, avoiding errors.\n",
    "\n",
    "Git branches simplify project management and keep work organized."
   ]
  },
  {
   "cell_type": "markdown",
   "id": "ea0feb2c-b1cf-4dc4-8265-b6e4aef7c73e",
   "metadata": {},
   "source": [
    "### Creating a New Branch:\n",
    "```bash\n",
    "$ git branch branch-test\r",
    "```\n",
    "This command creates a new branch named \"feature-images\". Branches in Git allow us to work on different aspects of a project in isolation, without affecting the main codebase.\n"
   ]
  },
  {
   "cell_type": "markdown",
   "id": "6804b9e8-9815-49b3-bd35-beabe6d87cc5",
   "metadata": {},
   "source": [
    "### Confirming and Switching Branches:"
   ]
  },
  {
   "cell_type": "markdown",
   "id": "c3bb5dfb-2ba8-4726-a481-16c871efe7ab",
   "metadata": {},
   "source": [
    "```bash\n",
    "$ git branch \n",
    "```\n",
    "Output:\n",
    "```\n",
    "  branch-test\n",
    "* main\n",
    "```\n",
    "The asterisk (*) next to \"main\" indicates that we're currently on the main branch."
   ]
  },
  {
   "cell_type": "markdown",
   "id": "96bfcaa5-d685-4b80-b01f-272dcc9304f1",
   "metadata": {},
   "source": [
    "To start working on our new branch, we switch to the \"branch-test\" branch:\n",
    "```bash\n",
    "$ git checkout branch-test\n",
    "```\n",
    "Output:\n",
    "```\n",
    "Switched to branch 'branch-test'\n",
    "```"
   ]
  },
  {
   "cell_type": "markdown",
   "id": "b236288d-b7c3-4018-b7be-50b055d8ed36",
   "metadata": {},
   "source": [
    "then we can alter our python file into this structure :"
   ]
  },
  {
   "cell_type": "code",
   "execution_count": 22,
   "id": "dc6baefc-ff4b-45f4-85b0-5ba22982ce55",
   "metadata": {},
   "outputs": [
    {
     "name": "stdout",
     "output_type": "stream",
     "text": [
      "Hello, Git!\n",
      "How are you?\n",
      "this is our branch\n"
     ]
    }
   ],
   "source": [
    "# testing branch functionality\n",
    "print(\"Hello, Git!\")\n",
    "print(\"How are you?\")\n",
    "print(\"this is our branch\")"
   ]
  },
  {
   "cell_type": "markdown",
   "id": "f6f876f1-51ff-4898-b70e-b47ccb8edf90",
   "metadata": {},
   "source": [
    "now let add this code to our stage:\n",
    "\n",
    "``` bash\n",
    "$ git add test.py\n",
    "```\n",
    "and then commit it\n",
    "\n",
    "```bash\n",
    "$ git commit -m \"Added a new feature to test.py\" \n",
    "```\n",
    "Output:\n",
    "```\n",
    "[branch-test 0aa95ad] Added a new feature to test.py\n",
    "1 file changed, 2 insertions(+), 1 deletion\n",
    "\n",
    "```"
   ]
  },
  {
   "cell_type": "markdown",
   "id": "641a1cf0-a01c-4cee-aab3-667849136693",
   "metadata": {},
   "source": [
    "Now we have a new branch, \"branch-test\", separate from the main branch (main)."
   ]
  },
  {
   "cell_type": "markdown",
   "id": "ffef2b84-9323-4d54-8009-392cfe5b7449",
   "metadata": {},
   "source": [
    "### Merge Branches\n",
    "Merging branches in Git allows you to combine changes from one branch into another. This is typically done to incorporate new features or bug fixes developed in a separate branch back into the main codebase."
   ]
  },
  {
   "cell_type": "markdown",
   "id": "073677f8-30be-4893-b976-6879baa39cae",
   "metadata": {},
   "source": [
    "Before merging, switch to the branch where you want to merge changes. For example, if you want to merge changes from branch-test into main, switch to main:\n",
    "\n",
    "```bash\n",
    "$ git checkout main\n",
    "```\n",
    "Output:\n",
    "```\n",
    "Switched to branch 'main'\n",
    "\n",
    "```"
   ]
  },
  {
   "cell_type": "markdown",
   "id": "c3e76da2-9a70-4bfa-9789-78af0b64ee4e",
   "metadata": {},
   "source": [
    "Merge the branch-test branch into main using the git merge command:\n",
    "\n",
    "```bash\n",
    "$ git merge branch-test \n",
    "```\n",
    "Output:\n",
    "```\n",
    "Updating 9070cc1..0aa95ad\n",
    "Fast-forward\n",
    " test.py | 3 ++-\n",
    " 1 file changed, 2 insertions(+), 1 deletion(-)\n",
    "```\n",
    "Git will create a merge commit if the branches have diverged, combining histories of both branches. If there are no conflicts, Git performs a \"fast-forward\" merge. If there are conflicts, Git will pause to allow you to resolve them manually."
   ]
  },
  {
   "cell_type": "markdown",
   "id": "adf9b037-f55e-41b5-abd6-7e4adea43acd",
   "metadata": {},
   "source": [
    "Deleting merged branches, like branch-test, helps keep your repository clean and focused. It removes unnecessary branches after their changes have been successfully integrated into your main development branch (main).\n",
    "```bash\n",
    "$ git branch -d branch-test\n",
    "```\n",
    "Output:\n",
    "```\n",
    "Deleted branch branch-test (was 0aa95ad)\n",
    "```"
   ]
  },
  {
   "cell_type": "markdown",
   "id": "ab7c9d84-4a56-4c93-9c5e-8edcd4a54e3f",
   "metadata": {},
   "source": [
    "# 3. Git GitHub Getting Started\r",
    "This section will guide you through setting up Git, creating repositories, and using GitHub's features. Whether for solo projects or team efforts, mastering these tools will improve your workflow and productivity.\n"
   ]
  },
  {
   "cell_type": "markdown",
   "id": "ddf4ae03-aa8f-444b-8e53-3d5e40ca4ddf",
   "metadata": {
    "jp-MarkdownHeadingCollapsed": true
   },
   "source": [
    "## 3.1 GitHub Account"
   ]
  },
  {
   "cell_type": "markdown",
   "id": "175b2ed3-2a1e-44c0-8d4e-a23839282fff",
   "metadata": {},
   "source": [
    "- Go to [GitHub](https://github.com/) and sign up for an account.\n",
    "\n",
    "- Note: Remember to use the same email address you used in the Git config."
   ]
  },
  {
   "cell_type": "markdown",
   "id": "da476b0a-d61c-4748-a349-e0aa4c6c4ac5",
   "metadata": {
    "jp-MarkdownHeadingCollapsed": true
   },
   "source": [
    "## 3.2 Sign In and Create a New Repository:"
   ]
  },
  {
   "cell_type": "markdown",
   "id": "0ebaebcc-2dbc-4cb0-b2a6-68e03c29af03",
   "metadata": {},
   "source": [
    "   - Sign in to your GitHub account.\n",
    "   - Click the \"New\" button to create a new repository:  \n",
    "     ![GitHub New Repo](https://docs.github.com/assets/images/help/repository/repo-create.png)\n",
    "   - Fill in the repository details:\n",
    "     - **Repository name**: Choose a unique name for your repository.\n",
    "     - **Description** (optional): Briefly describe your project.\n",
    "     - **Public/Private**: Choose whether your repository is public or private.\n",
    "     - **Initialize this repository with a README** (optional): Select this if you want to include a README file.\n",
    "\n",
    "   ![GitHub Create New Repo](https://docs.github.com/assets/images/help/repository/create-repository-name.png)"
   ]
  },
  {
   "cell_type": "markdown",
   "id": "0860cb2f-3f78-4b25-82ee-854bc75340ad",
   "metadata": {
    "jp-MarkdownHeadingCollapsed": true
   },
   "source": [
    "## 3.3 Add Remote Repository:"
   ]
  },
  {
   "cell_type": "markdown",
   "id": "31439f60-ac01-424f-9fc8-752f45476a02",
   "metadata": {},
   "source": [
    "   - Open your terminal and navigate to your local repository.\n",
    "   - Add the remote repository with the following command:\n",
    "     ```bash\n",
    "     $ git remote add origin https://github.com/your-username/your-repo.git\n",
    "     ```\n",
    "   - **Explanation**: This command adds a remote repository with the specified URL and names it `origin`.\n",
    "     ```"
   ]
  },
  {
   "cell_type": "markdown",
   "id": "1ebd9a36-d928-4014-a41d-6f82b9bc98bf",
   "metadata": {
    "jp-MarkdownHeadingCollapsed": true
   },
   "source": [
    "## 3.4 push to GitHub:\r\n"
   ]
  },
  {
   "cell_type": "markdown",
   "id": "68f5e9d1-27d3-40e5-b677-4bd44271625c",
   "metadata": {},
   "source": [
    "- Push your local repository to GitHub and set it as the default remote branch:\n",
    "```bash\n",
    "    $ git push --set-upstream origin main\n",
    "```\n",
    "- **Output**:\n",
    "```\n",
    "Enumerating objects: 10, done.\n",
    "Counting objects: 100% (10/10), done.\n",
    "Delta compression using up to 12 threads\n",
    "Compressing objects: 100% (9/9), done.\n",
    "Writing objects: 100% (9/9), 1.01 KiB | 1.01 MiB/s, done.\n",
    "Total 9 (delta 0), reused 0 (delta 0), pack-reused 0 (from 0)\n",
    "To https://github.com/ErfanShm/git-test.git\n",
    "   6a7d25f..5a4d5a0  main -> main\n",
    "branch 'main' set up to track 'origin/main'.\n",
    "```\n",
    " - Go back to GitHub and verify that your repository has been updated with your local files."
   ]
  },
  {
   "cell_type": "markdown",
   "id": "cc8188f8-114c-44a2-aded-1e9912cc82fb",
   "metadata": {
    "jp-MarkdownHeadingCollapsed": true
   },
   "source": [
    "## 3.5 Edit Code in GitHub"
   ]
  },
  {
   "cell_type": "markdown",
   "id": "39f5b665-5207-4723-8a8d-95bcce4bd00e",
   "metadata": {},
   "source": [
    "\n",
    "In addition to being a host for Git repositories, GitHub offers a powerful code editor. Let's try editing the `README.md` file directly on GitHub.\n",
    "\n",
    "1. **Edit a File**:\n",
    "   - Navigate to your repository on GitHub.\n",
    "   - Click on the `README.md` file to view it.\n",
    "   - Click the edit button (pencil icon) in the upper right corner of the file view.\n",
    "\n",
    "   ![GitHub Edit File](https://docs.github.com/assets/images/help/repository/edit-file-edit-button.png)\n",
    "\n",
    "2. **Make Changes**:\n",
    "   - Add your changes to the file.\n",
    "   - Scroll down to the \"Commit changes\" section.\n",
    "\n",
    "3. **Commit Changes**:\n",
    "   - Add a commit message describing your changes.\n",
    "   - Choose \"Commit directly to the `master` branch\".\n",
    "   - Click \"Commit changes\".\n",
    "\n",
    "That's how you edit code directly in GitHub!"
   ]
  },
  {
   "cell_type": "markdown",
   "id": "c765acdd-fd1c-4d48-bd8f-d08efe839230",
   "metadata": {
    "jp-MarkdownHeadingCollapsed": true
   },
   "source": [
    "## 3.6 Pulling to Keep up-to-date with Changes"
   ]
  },
  {
   "cell_type": "markdown",
   "id": "02e3db65-1d87-4cf3-b656-329525d83218",
   "metadata": {},
   "source": [
    "When working in a team, it's crucial to keep your local repository up-to-date with the latest changes from the remote repository.\n",
    "\n",
    "1. **Understanding `merge`, `fetch`, and `pull`**:\n",
    "   - `fetch`: Retrieves updates from the remote repository.\n",
    "   - `merge`: Integrates fetched changes into your local branch.\n",
    "   - `pull`: Combines `fetch` and `merge` to update your local branch."
   ]
  },
  {
   "cell_type": "markdown",
   "id": "686bcbe6-5f7f-448f-9a96-7f0695b63335",
   "metadata": {},
   "source": [
    "### 3.6.1 Git Fetch\n",
    "\n",
    "Retrieves the latest changes from a remote repository without merging them into your current branch.\n",
    "\n",
    "- **Example**:\n",
    "```bash\n",
    "$ git fetch origin\n",
    "$ git status\n",
    "```\n",
    "\n",
    "- **Output**:\n",
    "```\n",
    "On branch main\n",
    "Your branch is behind 'origin/main' by 1 commit, and can be fast-forwarded.\n",
    "  (use \"git pull\" to update your local branch)\n",
    "```\n",
    "\n",
    "- Fetches all changes from the remote repository (`origin`).\n",
    "- Updates your local repository's knowledge of the remote branch positions and commit history."
   ]
  },
  {
   "cell_type": "markdown",
   "id": "f3ae83db-f003-43b0-96bc-e2bd288a3f0c",
   "metadata": {},
   "source": [
    "### 3.6.2 Git Merge\n",
    "Combines changes from a remote branch into your current local branch.\n",
    "\n",
    "- **Example**:\n",
    "```bash\n",
    "$ git merge origin/main\n",
    "```\n",
    "\n",
    "- **Output**:\n",
    "```\n",
    "Updating 5a4d5a0..ca1e89c\n",
    "Fast-forward\n",
    " README.md | 3 ++-\n",
    " 1 file changed, 2 insertions(+), 1 deletion(-)\n",
    "```\n",
    "\n",
    "- **Example**:\n",
    "```bash\n",
    "$ git status\n",
    "```\n",
    "\n",
    "- **Output**:\n",
    "```\n",
    "On branch main\n",
    "Your branch is up to date with 'origin/main'.\n",
    "\n",
    "nothing to commit, working tree clean\n",
    "```\n",
    "- Merges the changes from the `origin/master` branch into your current local branch (e.g., `master`).\n",
    "- This creates a merge commit if there are conflicting changes that need to be resolved."
   ]
  },
  {
   "cell_type": "markdown",
   "id": "0a838ea0-153d-4fd1-b3d0-622af3136c11",
   "metadata": {},
   "source": [
    "### 3.6.3 Git Pull\n",
    "\n",
    "Updates your current branch with the latest changes from the remote repository in a single command.\n",
    "\n",
    "- **Example**:\n",
    "```bash\n",
    "$ git pull origin\n",
    "```\n",
    "\n",
    "- **Output**:\n",
    "```\n",
    "Already up to date.\n",
    "```\n",
    "- Performs a `git fetch` to fetch changes from the remote repository.\n",
    "- Automatically merges these changes into your current branch.\n",
    "- Simplifies the process by combining `git fetch` and `git merge` into one command."
   ]
  },
  {
   "cell_type": "markdown",
   "id": "7305bae3-4b58-48ff-8f24-4e982d518f32",
   "metadata": {
    "jp-MarkdownHeadingCollapsed": true
   },
   "source": [
    "## 3.7 Working with Branches on GitHub"
   ]
  },
  {
   "cell_type": "markdown",
   "id": "4549b252-64d0-4bb5-8cd0-23a18cf4ee03",
   "metadata": {
    "jp-MarkdownHeadingCollapsed": true
   },
   "source": [
    "#### Create a New Branch on GitHub\n",
    "\n",
    "1. **Access Your Repository:**\n",
    "   - Go to your repository on GitHub.\n",
    "\n",
    "2. **Create a New Branch:**\n",
    "   - Click the branch dropdown button (usually says `main` or `master`).\n",
    "   - Type a descriptive name for your new branch, such as `new_feature`.\n",
    "   - Click `Create branch`.\n",
    "\n",
    "3. **Confirm the Branch:**\n",
    "   - Check that the branch button now shows the new branch name (`new_feature`).\n",
    "\n",
    "#### Edit a File in the New Branch\n",
    "\n",
    "1. **Open a File:**\n",
    "   - Click on the `test.py` file in your repository.\n",
    "\n",
    "2. **Edit the File:**\n",
    "   - Make your changes directly in the GitHub editor. For example:\n",
    "\n",
    "     ```python\n",
    "     # testing branch functionality\n",
    "     print(\"Hello, Git!\")\n",
    "     print(\"How are you?\")\n",
    "     print(\"this is our branch\")\n",
    "     print(\"this is our first new feature\")\n",
    "     print(\"this is our second new feature\")\n",
    "     ```\n",
    "\n",
    "3. **Preview and Commit Changes:**\n",
    "   - Click the `Preview changes` tab to see what you changed.\n",
    "\n",
    "   - Add a comment explaining your changes, such as \"Added new features in the new branch.\"\n",
    "   - Click `Commit changes`.\n",
    "\n",
    "You now have a new branch on GitHub named `new_feature`. You have edited the `test.py` file in this branch, previewed the changes, and committed them. This allows you to work on new features or fixes without affecting the `main` branch."
   ]
  },
  {
   "cell_type": "markdown",
   "id": "d08dffcb-256c-4c26-8a51-63313189ebf7",
   "metadata": {
    "jp-MarkdownHeadingCollapsed": true
   },
   "source": [
    "## 3. 8 Fork a Repository"
   ]
  },
  {
   "cell_type": "markdown",
   "id": "6a6f66d8-9089-4c19-b441-110c3b68e08e",
   "metadata": {},
   "source": [
    "A fork is a copy of a repository. This is useful when you want to contribute to someone else's project or start your own project based on theirs.\n",
    "\n",
    "Note: `fork` is not a command in Git; it is a feature provided by GitHub and other repository hosts.\n",
    "\n",
    "Let's start by logging in to GitHub and forking a repository:\n",
    "\n",
    "1. **Log in to GitHub:**\n",
    "   - Go to [GitHub](https://github.com) and log in.\n",
    "\n",
    "2. **Fork the Repository:**\n",
    "   - Navigate to the repository you want to fork.\n",
    "   - Click the `Fork` button at the top right corner of the page.\n",
    "\n",
    "3. **Complete the Fork:**\n",
    "   - GitHub will create a copy of the repository in your account. You now have your own copy of the repository."
   ]
  },
  {
   "cell_type": "markdown",
   "id": "bbd07013-4663-40e2-8f4d-074e2c435bb7",
   "metadata": {
    "jp-MarkdownHeadingCollapsed": true
   },
   "source": [
    "## 3.9 Clone a Fork from GitHub"
   ]
  },
  {
   "cell_type": "markdown",
   "id": "933f9c7f-e487-40e0-bd4d-062b4fb6c3b8",
   "metadata": {},
   "source": [
    "Now that you have your fork on GitHub, you'll want a local copy to work on it.\n",
    "\n",
    "A clone is a full copy of a repository, including all history and versions of files.\n",
    "\n",
    "1. **Get the Clone URL:**\n",
    "   - Go to your forked repository on GitHub.\n",
    "   - Click the green `Code` button to get the URL.\n",
    "\n",
    "2. **Clone the Repository:**\n",
    "   - Open Git Bash on your computer.\n",
    "   - Run the following command, replacing the URL with your repository's clone URL:\n",
    "\n",
    "   - **Example**:\n",
    "     ```bash\n",
    "     $ git clone https://github.com/YOUR-USERNAME/YOUR-FORKED-REPO.git\n",
    "     ```\n",
    "\n",
    "   - **Output**:\n",
    "     ```\n",
    "     Cloning into 'your-forked-repo'...\n",
    "     remote: Enumerating objects: 33, done.\n",
    "     remote: Counting objects: 100% (33/33), done.\n",
    "     remote: Compressing objects: 100% (15/15), done.\n",
    "     remote: Total 33 (delta 18), reused 33 (delta 18), pack-reused 0\n",
    "     Receiving objects: 100% (33/33), 94.79 KiB | 3.16 MiB/s, done.\n",
    "     Resolving deltas: 100% (18/18), done.\n",
    "     ```\n",
    "\n",
    "3. **Navigate to the New Directory:**\n",
    "   - Use the `cd` command to move into the cloned repository directory:\n",
    "\n",
    "   - **Example**:\n",
    "     ```bash\n",
    "     $ cd your-forked-repo\n",
    "     ```\n",
    "\n",
    "4. **Check the Status:**\n",
    "   - Confirm you are on the main branch and the working tree is clean:\n",
    "\n",
    "   - **Example**:\n",
    "     ```bash\n",
    "     $ git status\n",
    "     ```\n",
    "\n",
    "   - **Output**:\n",
    "     ```\n",
    "     On branch main\n",
    "     Your branch is up to date with 'origin/main'.\n",
    "\n",
    "     nothing to commit, working tree clean\n",
    "     ```\n",
    "\n",
    "Now you have a full local copy of your forked repository."
   ]
  },
  {
   "cell_type": "markdown",
   "id": "5b5cbbf6-ca7f-4ca0-b28f-4bf0590a44ec",
   "metadata": {
    "jp-MarkdownHeadingCollapsed": true
   },
   "source": [
    "## 3. 10 Managing Multiple Remotes"
   ]
  },
  {
   "cell_type": "markdown",
   "id": "7c98fb8c-1219-43f5-9497-e46abc689dcb",
   "metadata": {},
   "source": [
    "\n",
    "With your local clone, you can configure Git to manage multiple remotes.\n",
    "\n",
    "1. **Check the Current Remotes:**\n",
    "   - Use the following command to see the existing remote configuration:\n",
    "\n",
    "   - **Example**:\n",
    "     ```bash\n",
    "     $ git remote -v\n",
    "     ```\n",
    "\n",
    "   - **Output**:\n",
    "     ```\n",
    "     origin  https://github.com/your-username/your-forked-repo.git (fetch)\n",
    "     origin  https://github.com/your-username/your-forked-repo.git (push)\n",
    "     ```\n",
    "\n",
    "2. **Add the Original Repository as Upstream:**\n",
    "   - First, rename the existing `origin` to `upstream`:\n",
    "\n",
    "   - **Example**:\n",
    "     ```bash\n",
    "     $ git remote rename origin upstream\n",
    "     ```\n",
    "\n",
    "   - **Output**:\n",
    "     ```\n",
    "     $ git remote -v\n",
    "     upstream  https://github.com/your-username/your-forked-repo.git (fetch)\n",
    "     upstream  https://github.com/your-username/your-forked-repo.git (push)\n",
    "     ```\n",
    "\n",
    "   - Add your forked repository as the new `origin`:\n",
    "\n",
    "   - **Example**:\n",
    "     ```bash\n",
    "     $ git remote add origin https://github.com/your-username/your-forked-repo.git\n",
    "     ```\n",
    "\n",
    "   - **Output**:\n",
    "     ```\n",
    "     $ git remote -v\n",
    "     origin    https://github.com/your-username/your-forked-repo.git (fetch)\n",
    "     origin    https://github.com/your-username/your-forked-repo.git (push)\n",
    "     upstream  https://github.com/original-username/original-repo.git (fetch)\n",
    "     upstream  https://github.com/original-username/original-repo.git (push)\n",
    "     ```\n",
    "\n",
    "You have successfully forked a repository on GitHub, cloned it to your local machine, and configured Git to manage multiple remotes. This setup allows you to work on your forked repository and keep track of updates from the original repository."
   ]
  },
  {
   "cell_type": "markdown",
   "id": "de8c03b8-7d62-4723-a70f-19b3dca7b5d2",
   "metadata": {
    "jp-MarkdownHeadingCollapsed": true
   },
   "source": [
    "## 3.11 Push Changes to Your GitHub Fork"
   ]
  },
  {
   "cell_type": "markdown",
   "id": "52a8c2f9-065f-424d-af33-6b26b876ed80",
   "metadata": {},
   "source": [
    "1. **Commit the Changes:**\n",
    "   Ensure all your changes are committed locally.\n",
    "\n",
    "   - **Example**:\n",
    "     ```bash\n",
    "     $ git add .\n",
    "     $ git commit -m \"Updated files with new features\"\n",
    "     ```\n",
    "\n",
    "2. **Push Changes to Your Fork:**\n",
    "   Push your committed changes to your GitHub fork.\n",
    "\n",
    "   - **Example**:\n",
    "     ```bash\n",
    "     $ git push origin\n",
    "     ```\n",
    "   \n",
    "   - **Output**:\n",
    "     ```\n",
    "     Enumerating objects: 8, done.\n",
    "     Counting objects: 100% (8/8), done.\n",
    "     Delta compression using up to 4 threads\n",
    "     Compressing objects: 100% (5/5), done.\n",
    "     Writing objects: 100% (5/5), 393.96 KiB | 32.83 MiB/s, done.\n",
    "     Total 5 (delta 0), reused 0 (delta 0), pack-reused 0\n",
    "     To https://github.com/your-username/your-forked-repo.git\n",
    "        facaeae..ebb1a5c  main -> main\n",
    "     ```\n",
    "\n",
    "   This command pushes your local changes to the `main` branch of your forked repository (`origin`)."
   ]
  },
  {
   "cell_type": "markdown",
   "id": "a5635dca-6fb2-4778-8110-e74a5dfaecb8",
   "metadata": {},
   "source": [
    "## 3.12 Create a Pull Request (PR)"
   ]
  },
  {
   "cell_type": "markdown",
   "id": "a641bdf5-daf0-4d50-a6b2-062f66b4abd1",
   "metadata": {},
   "source": [
    "1. **Navigate to GitHub:**\n",
    "   Go to your forked repository on GitHub.\n",
    "\n",
    "2. **Create a Pull Request:**\n",
    "   - GitHub will recognize your recent push and display a message suggesting to create a pull request.\n",
    "   - Click on the link to create a new pull request.\n",
    "\n",
    "3. **Fill Out Pull Request Details:**\n",
    "   - Add a title and description explaining your changes.\n",
    "   - Review your changes in the diff viewer to ensure they're correct.\n",
    "\n",
    "4. **Send the Pull Request:**\n",
    "   - Click the \"Create pull request\" button to send your pull request to the original repository.\n",
    "\n",
    "5. **Approving and Merging Pull Requests:**\n",
    "   - Someone with access to the original repository will review your pull request.\n",
    "   - They can comment on your changes, request modifications, or approve and merge your pull request.\n",
    "\n",
    "6. **Confirm the Merge:**\n",
    "   - Once approved, the reviewer can confirm and merge your changes into the original repository.\n",
    "\n",
    "You've successfully pushed your local changes to your GitHub fork and created a pull request to propose your changes to the original repository. This process allows for collaboration and contribution to projects hosted on GitHub."
   ]
  },
  {
   "cell_type": "markdown",
   "id": "63846d75-69b9-47a2-b6c3-94e437461707",
   "metadata": {},
   "source": [
    "# 4. Git Undo\n",
    "In this section, we explored various Git commands to undo changes and manage the commit history."
   ]
  },
  {
   "cell_type": "markdown",
   "id": "f81ee9c6-5523-417b-b918-329cf997ea56",
   "metadata": {},
   "source": [
    "## 4.1 Git Revert\n"
   ]
  },
  {
   "cell_type": "markdown",
   "id": "396c3ec1-37da-4483-8632-4c6cb96ab99d",
   "metadata": {},
   "source": [
    "The `revert` command is used to undo a previous commit by creating a new commit, thus keeping the commit history intact.\n",
    "\n",
    "**1. Find the Previous Commit**\n",
    "\n",
    "First, identify the commit you want to revert to by examining the commit history.\n",
    "\n",
    "- **Example**:\n",
    "  ```bash\n",
    "  $ git log --oneline\n",
    "  ```\n",
    "\n",
    "- **Output**:\n",
    "  ```\n",
    "    1b27ef9 (HEAD -> new_feature) update additional feature with bug for test.py\n",
    "    3c3570c (origin/new_feature) Update test.py\n",
    "    ca1e89c (origin/main, main) Update README.md\n",
    "    5a4d5a0 Added a new feature to test.py\n",
    "    2191878 Updated test.py with a new line\n",
    "    7309e77 First release of our test\n",
    "    6a7d25f Initial commit\n",
    "  ```\n",
    "**2. Revert the Commit**\n",
    "\n",
    "Use the commit hash to revert to a previous commit. In this example, we'll revert the latest commit.\n",
    "\n",
    "- **Example**:\n",
    "  ```bash\n",
    "  $ git revert HEAD --no-edit\n",
    "  ```\n",
    "\n",
    "- **Output**:\n",
    "  ```\n",
    "    [new_feature 117105f] Revert \"update additional feature with bug for test.py\"\n",
    "     Date: Mon Jul 8 11:56:23 2024 +0330\n",
    "     1 file changed, 1 deletion(-)\n",
    "  ```\n",
    "\n",
    "The `--no-edit` option is used to skip the commit message editor and use the default revert message.\n",
    "\n",
    "#### Verify the Revert\n",
    "\n",
    "Check the commit log to ensure the revert was successful.\n",
    "\n",
    "- **Example**:\n",
    "  ```bash\n",
    "  $ git log --oneline\n",
    "  ```\n",
    "\n",
    "- **Output**:\n",
    "  ```\n",
    "    117105f (HEAD -> new_feature) Revert \"update additional feature with bug for test.py\"\n",
    "    1b27ef9 update additional feature with bug for test.py\n",
    "    3c3570c (origin/new_feature) Update test.py\n",
    "    ca1e89c (origin/main, main) Update README.md\n",
    "    5a4d5a0 Added a new feature to test.py\n",
    "    2191878 Updated test.py with a new line\n",
    "    7309e77 First release of our test\n",
    "    6a7d25f Initial commit\n",
    "  ```\n",
    "\n",
    "### Note\n",
    "To revert to earlier commits, use `git revert HEAD~x` (where `x` is the number of commits to go back).\n",
    "\n",
    "- **Example**:\n",
    "  ```bash\n",
    "  $ git revert HEAD~2 --no-edit\n",
    "  ```\n",
    "\n",
    "This command reverts the changes from two commits ago.\n",
    "\n",
    "You've successfully reverted a commit, creating a new commit that undoes changes while preserving the commit history. This method is useful for undoing mistakes without losing the project history."
   ]
  },
  {
   "cell_type": "markdown",
   "id": "170ba0cf-28b7-455b-9cfc-78d1741c4af1",
   "metadata": {},
   "source": [
    "## 4.2 Git Reset\n"
   ]
  },
  {
   "cell_type": "markdown",
   "id": "7823517d-e8cd-4a4a-8fe4-909286d14d2d",
   "metadata": {},
   "source": [
    "\n",
    "The `reset` command is used to move the repository back to a previous commit, discarding any changes made after that commit.\n",
    "\n",
    "**1. Find the Previous Commit**\n",
    "\n",
    "First, identify the commit you want to reset to by examining the commit history.\n",
    "\n",
    "- **Example**:\n",
    "  ```bash\n",
    "  $ git log --oneline\n",
    "  ```\n",
    "\n",
    "- **Output**:\n",
    "  ```\n",
    "    1a868e0 (HEAD -> new_feature) add some new lines full of error\n",
    "    117105f Revert \"update additional feature with bug for test.py\"\n",
    "    1b27ef9 update additional feature with bug for test.py\n",
    "    3c3570c (origin/new_feature) Update test.py\n",
    "    ca1e89c (origin/main, main) Update README.md\n",
    "    5a4d5a0 Added a new feature to test.py\n",
    "    2191878 Updated test.py with a new line\n",
    "    7309e77 First release of our test\n",
    "    6a7d25f Initial commit\n",
    "**2. Reset the Repository**\n",
    "\n",
    "Use the commit hash to reset to a previous commit. In this example, we'll reset to `9a9add8`:\n",
    "\n",
    "- **Example**:\n",
    "  ```bash\n",
    "  $ git reset 117105f\n",
    "  ```\n",
    "\n",
    "- **Output**:\n",
    "  ```\n",
    "  HEAD is now at 117105f Added .gitignore\n",
    "  ```\n",
    "\n",
    "#### Verify the Reset\n",
    "\n",
    "Check the commit log to ensure the reset was successful.\n",
    "\n",
    "- **Example**:\n",
    "  ```bash\n",
    "  $ git log --oneline\n",
    "  ```\n",
    "\n",
    "- **Output**:\n",
    "  ```\n",
    "    117105f (HEAD -> new_feature) Revert \"update additional feature with bug for test.py\"\n",
    "    1b27ef9 update additional feature with bug for test.py\n",
    "    3c3570c (origin/new_feature) Update test.py\n",
    "    ca1e89c (origin/main, main) Update README.md\n",
    "    5a4d5a0 Added a new feature to test.py\n",
    "    2191878 Updated test.py with a new line\n",
    "    7309e77 First release of our test\n",
    "    6a7d25f Initial commit\n",
    "  ```\n",
    "\n",
    "### Warning\n",
    "\n",
    "Messing with the commit history of a repository can be dangerous. It is usually okay to make these kinds of changes to your own local repository. However, avoid making changes that rewrite history on remote repositories, especially if others are working with them."
   ]
  },
  {
   "cell_type": "markdown",
   "id": "2905c0a5-ecc5-4510-bd15-9a13ad420539",
   "metadata": {},
   "source": [
    "## 4.3 Undo the Reset\n",
    "\n",
    "Even though the commits are no longer showing up in the log, they are not removed from Git. If you know the commit hash, you can reset to it again:\n",
    "\n",
    "- **Example**:\n",
    "  ```bash\n",
    "  $ git reset 1a868e0\n",
    "  ```\n",
    "\n",
    "- **Output**:\n",
    "  ```\n",
    "  HEAD is now at e56ba1f Revert \"Just a regular update, definitely no accidents here...\"\n",
    "  ```\n",
    "\n",
    "- **Example**:\n",
    "  ```bash\n",
    "  $ git log --oneline\n",
    "  ```\n",
    "\n",
    "- **Output**:\n",
    "  ```\n",
    "    1a868e0 (HEAD -> new_feature) add some new lines full of error\n",
    "    117105f Revert \"update additional feature with bug for test.py\"\n",
    "    1b27ef9 update additional feature with bug for test.py\n",
    "    3c3570c (origin/new_feature) Update test.py\n",
    "    ca1e89c (origin/main, main) Update README.md\n",
    "    5a4d5a0 Added a new feature to test.py\n",
    "    2191878 Updated test.py with a new line\n",
    "    7309e77 First release of our test\n",
    "    6a7d25f Initial commit\n",
    "  ```\n",
    "\n",
    "Using `git reset`, you've successfully moved your repository back to a previous commit. This method is useful for discarding unwanted changes and restoring your project to a known good state."
   ]
  },
  {
   "cell_type": "markdown",
   "id": "7f251c0d-d97f-4d08-8267-dc3e30f8ab21",
   "metadata": {},
   "source": [
    "## 4.4 Git Amend"
   ]
  },
  {
   "cell_type": "markdown",
   "id": "1909d121-304c-473f-aff1-a2bc933498c5",
   "metadata": {},
   "source": [
    "The `commit --amend` command is used to modify the most recent commit. It combines changes in the staging environment with the latest commit and creates a new commit, which replaces the previous one.\n",
    "\n",
    "### Amending a Commit Message\n",
    "\n",
    "You can use `--amend` to change the commit message of the most recent commit.\n",
    "\n",
    "1. **Make a Commit with a Typo**:\n",
    "\n",
    "   - **Example**:\n",
    "     ```bash\n",
    "     $ git commit -m \"add some new lines full of error again\"\n",
    "     ```\n",
    "\n",
    "   - **Output**:\n",
    "     ```\n",
    "     [new_feature ed86902] add some new lines full of error again\n",
    "     1 file changed, 2 insertions(+), 1 deletion(-)\n",
    "     ```\n",
    "\n",
    "2. **Check the Log**:\n",
    "\n",
    "   - **Example**:\n",
    "     ```bash\n",
    "     $ git log --oneline\n",
    "     ```\n",
    "\n",
    "   - **Output**:\n",
    "     ```\n",
    "        ed86902 (HEAD -> new_feature) add some new lines full of error again\n",
    "        1a868e0 add some new lines full of error\n",
    "        117105f Revert \"update additional feature with bug for test.py\"\n",
    "        1b27ef9 update additional feature with bug for test.py\n",
    "        3c3570c (origin/new_feature) Update test.py\n",
    "        ca1e89c (origin/main, main) Update README.md\n",
    "        5a4d5a0 Added a new feature to test.py\n",
    "        2191878 Updated test.py with a new line\n",
    "        7309e77 First release of our test\n",
    "        6a7d25f Initial commitend the Commit Message**:\n",
    "        ```\n",
    "\n",
    "   - **Example**:\n",
    "     ```bash\n",
    "     $ git commit --amend -m \"delete lines with error in test.py\"\n",
    "     ```\n",
    "\n",
    "   - **Output**:\n",
    "     ```\n",
    "        [new_feature 87aae96] delete lines with error in test.py\n",
    "         Date: Mon Jul 8 12:13:44 2024 +0330\n",
    "         1 file changed, 1 insertion(+), 2 deletions(-)\n",
    "     ```\n",
    "\n",
    "4. **Re-check the Log**:\n",
    "\n",
    "   - **Example**:\n",
    "     ```bash\n",
    "     $ git log --oneline\n",
    "     ```\n",
    "\n",
    "   - **Output**:\n",
    "     ```\n",
    "        87aae96 (HEAD -> new_feature) delete lines with error in test.py\n",
    "        1a868e0 add some new lines full of error\n",
    "        117105f Revert \"update additional feature with bug for test.py\"\n",
    "        1b27ef9 update additional feature with bug for test.py\n",
    "        3c3570c (origin/new_feature) Update test.py\n",
    "        ca1e89c (origin/main, main) Update README.md\n",
    "        5a4d5a0 Added a new feature to test.py\n",
    "        2191878 Updated test.py with a new line\n",
    "        7309e77 First release of our test\n",
    "        6a7d25f Initial commit\n",
    "     ```\n",
    "\n",
    "We see that the previous commit is replaced with our amended one!"
   ]
  },
  {
   "cell_type": "markdown",
   "id": "8fb3958d-9048-4f4c-8787-73f947303b37",
   "metadata": {},
   "source": [
    "# Output :\n",
    "My git test repository :\n",
    "\n",
    "https://github.com/ErfanShm/git-test\n",
    "\n",
    "(By the way I have sent you an invitation so you can check it If you want)"
   ]
  },
  {
   "cell_type": "code",
   "execution_count": null,
   "id": "8e77caf6-44c3-4405-8457-7e0bfe2f1755",
   "metadata": {},
   "outputs": [],
   "source": []
  }
 ],
 "metadata": {
  "kernelspec": {
   "display_name": "Python 3 (ipykernel)",
   "language": "python",
   "name": "python3"
  },
  "language_info": {
   "codemirror_mode": {
    "name": "ipython",
    "version": 3
   },
   "file_extension": ".py",
   "mimetype": "text/x-python",
   "name": "python",
   "nbconvert_exporter": "python",
   "pygments_lexer": "ipython3",
   "version": "3.9.18"
  }
 },
 "nbformat": 4,
 "nbformat_minor": 5
}
